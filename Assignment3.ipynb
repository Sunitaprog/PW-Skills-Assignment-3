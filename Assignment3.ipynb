{
 "cells": [
  {
   "cell_type": "markdown",
   "id": "37c9ee5b-4903-4507-a0c0-b2b5f0927bca",
   "metadata": {},
   "source": [
    "Q1. explain with example each when to use a for loop and a while loop?\n",
    "Ans For loop are used when you have a block of code which you want to repeat a fixed number of times . the for loop is always used in commbination with an iterable object ,like list or a range .The python for statement iterates over the member of a sequence in order ,executing the block each time.While loop used when a condition needs to be checked each iterartion or to repeat a block of code.\n",
    "Example:\n",
    "l=[1,2,3,4,5]                 \n",
    "for i in l:\n",
    "    print(i)\n",
    "    \n",
    "i=1\n",
    "while i<6:\n",
    "    print(i)\n",
    "    i  =i+  1\n"
   ]
  },
  {
   "cell_type": "markdown",
   "id": "6ba681e2-f87f-48df-879a-d81ce639d42d",
   "metadata": {},
   "source": [
    "Q2. Write a python program to print the sum and product of the first 10 natural number using for loop and while loop\n"
   ]
  },
  {
   "cell_type": "code",
   "execution_count": 1,
   "id": "1fda1f26-c8e6-4430-bcb1-a5dcfebe94e5",
   "metadata": {},
   "outputs": [
    {
     "name": "stdout",
     "output_type": "stream",
     "text": [
      "The sum of the first 10 natural numbers is: 55\n",
      "The product of the first 10 natural numbers is: 3628800\n"
     ]
    }
   ],
   "source": [
    "sum = 0\n",
    "product = 1\n",
    "\n",
    "for i in range(1, 11):\n",
    "    sum += i\n",
    "    product *= i\n",
    "\n",
    "print(\"The sum of the first 10 natural numbers is:\", sum)\n",
    "print(\"The product of the first 10 natural numbers is:\", product)"
   ]
  },
  {
   "cell_type": "code",
   "execution_count": 2,
   "id": "6db0ade6-03d3-464c-ba02-1f781ce485af",
   "metadata": {},
   "outputs": [
    {
     "name": "stdout",
     "output_type": "stream",
     "text": [
      "The sum of the first 10 natural numbers is: 55\n",
      "The product of the first 10 natural numbers is: 3628800\n"
     ]
    }
   ],
   "source": [
    "sum = 0\n",
    "product = 1\n",
    "i = 1\n",
    "\n",
    "while i <= 10:\n",
    "    sum += i\n",
    "    product *= i\n",
    "    i += 1\n",
    "\n",
    "print(\"The sum of the first 10 natural numbers is:\", sum)\n",
    "print(\"The product of the first 10 natural numbers is:\", product)\n"
   ]
  },
  {
   "cell_type": "markdown",
   "id": "7b8338fc-3fe6-4ae0-ac80-3d404101a45f",
   "metadata": {},
   "source": [
    "Q3. Create a python program to compute the electricity bill for a household. The per-unit charges in rupees are as follows: For the first 100 units, the user will be charged Rs. 4.5 per unit, for the next 100 units, the user will be charged Rs. 6 per unit, and for the next 100 units, the user will be charged Rs. 10 per unit, After 300 units and above the user will be charged Rs. 20 per unit. You are required to take the units of electricity consumed in a month from the user as input. Your program must pass this test case: when the unit of electricity consumed by the user in a month is 310, the total electricity bill should be 2250."
   ]
  },
  {
   "cell_type": "code",
   "execution_count": 3,
   "id": "3b13c6c4-8dd6-4690-9995-bc2f20e3d948",
   "metadata": {},
   "outputs": [
    {
     "name": "stdin",
     "output_type": "stream",
     "text": [
      "Enter the units of electricity consumed:  310\n"
     ]
    },
    {
     "name": "stdout",
     "output_type": "stream",
     "text": [
      "The total electricity bill is: Rs. 2250.0\n"
     ]
    }
   ],
   "source": [
    "units = int(input(\"Enter the units of electricity consumed: \"))\n",
    "\n",
    "if units <= 100:\n",
    "    bill = units * 4.5\n",
    "elif units <= 200:\n",
    "    bill = 100 * 4.5 + (units - 100) * 6\n",
    "elif units <= 300:\n",
    "    bill = 100 * 4.5 + 100 * 6 + (units - 200) * 10\n",
    "else:\n",
    "    bill = 100 * 4.5 + 100 * 6 + 100 * 10 + (units - 300) * 20\n",
    "\n",
    "print(\"The total electricity bill is: Rs.\", bill)"
   ]
  },
  {
   "cell_type": "markdown",
   "id": "89c86755-1705-4889-9b24-e3b99189d000",
   "metadata": {},
   "source": [
    "Q4. Create a list of numbers from 1 to 100. Use for loop and while loop to calculate the cube of each number and if the cube of that number is divisible by 4 or 5 then append that number in a list and print that list."
   ]
  },
  {
   "cell_type": "code",
   "execution_count": 4,
   "id": "058e10f9-4b0e-4b09-bc54-773739d5ba55",
   "metadata": {},
   "outputs": [
    {
     "name": "stdout",
     "output_type": "stream",
     "text": [
      "The list of cubes that are divisible by 4 or 5: [8, 64, 125, 216, 512, 1000, 1728, 2744, 3375, 4096, 5832, 8000, 10648, 13824, 15625, 17576, 21952, 27000, 32768, 39304, 42875, 46656, 54872, 64000, 74088, 85184, 91125, 97336, 110592, 125000, 140608, 157464, 166375, 175616, 195112, 216000, 238328, 262144, 274625, 287496, 314432, 343000, 373248, 405224, 421875, 438976, 474552, 512000, 551368, 592704, 614125, 636056, 681472, 729000, 778688, 830584, 857375, 884736, 941192, 1000000]\n"
     ]
    }
   ],
   "source": [
    "# using for loop\n",
    "numbers = []\n",
    "cube_divisible = []\n",
    "\n",
    "for i in range(1, 101):\n",
    "    numbers.append(i)\n",
    "    cube = i ** 3\n",
    "    if cube % 4 == 0 or cube % 5 == 0:\n",
    "        cube_divisible.append(cube)\n",
    "\n",
    "print(\"The list of cubes that are divisible by 4 or 5:\", cube_divisible)"
   ]
  },
  {
   "cell_type": "code",
   "execution_count": 5,
   "id": "b76ecd41-fb08-4b4b-a888-d8510c9aa5e9",
   "metadata": {},
   "outputs": [
    {
     "name": "stdout",
     "output_type": "stream",
     "text": [
      "The list of cubes that are divisible by 4 or 5: [8, 64, 125, 216, 512, 1000, 1728, 2744, 3375, 4096, 5832, 8000, 10648, 13824, 15625, 17576, 21952, 27000, 32768, 39304, 42875, 46656, 54872, 64000, 74088, 85184, 91125, 97336, 110592, 125000, 140608, 157464, 166375, 175616, 195112, 216000, 238328, 262144, 274625, 287496, 314432, 343000, 373248, 405224, 421875, 438976, 474552, 512000, 551368, 592704, 614125, 636056, 681472, 729000, 778688, 830584, 857375, 884736, 941192, 1000000]\n"
     ]
    }
   ],
   "source": [
    "#using while loop\n",
    "numbers = []\n",
    "cube_divisible = []\n",
    "i = 1\n",
    "\n",
    "while i <= 100:\n",
    "    numbers.append(i)\n",
    "    cube = i ** 3\n",
    "    if cube % 4 == 0 or cube % 5 == 0:\n",
    "        cube_divisible.append(cube)\n",
    "    i += 1\n",
    "\n",
    "print(\"The list of cubes that are divisible by 4 or 5:\", cube_divisible)"
   ]
  },
  {
   "cell_type": "markdown",
   "id": "a9783ba9-56a3-48a0-88da-e664f6255c11",
   "metadata": {},
   "source": [
    "Q5. Write a program to filter count vowels in the below-given string. string = \"I want to become a data scientist\""
   ]
  },
  {
   "cell_type": "code",
   "execution_count": 6,
   "id": "e599fea7-4993-40ee-b492-2eb5078dca38",
   "metadata": {},
   "outputs": [
    {
     "name": "stdout",
     "output_type": "stream",
     "text": [
      "The number of vowels in the string is: 12\n"
     ]
    }
   ],
   "source": [
    "string = \"I want to become a data scientist\"\n",
    "vowels = \"aeiouAEIOU\"\n",
    "count = 0\n",
    "\n",
    "for char in string:\n",
    "    if char in vowels:\n",
    "        count += 1\n",
    "\n",
    "print(\"The number of vowels in the string is:\", count)\n"
   ]
  },
  {
   "cell_type": "code",
   "execution_count": null,
   "id": "cae715b3-66d2-451a-a750-5f82fb01278c",
   "metadata": {},
   "outputs": [],
   "source": []
  },
  {
   "cell_type": "code",
   "execution_count": null,
   "id": "0e283a7d-883f-4a92-b591-fdd0fcb83938",
   "metadata": {},
   "outputs": [],
   "source": []
  }
 ],
 "metadata": {
  "kernelspec": {
   "display_name": "Python 3 (ipykernel)",
   "language": "python",
   "name": "python3"
  },
  "language_info": {
   "codemirror_mode": {
    "name": "ipython",
    "version": 3
   },
   "file_extension": ".py",
   "mimetype": "text/x-python",
   "name": "python",
   "nbconvert_exporter": "python",
   "pygments_lexer": "ipython3",
   "version": "3.10.8"
  }
 },
 "nbformat": 4,
 "nbformat_minor": 5
}
